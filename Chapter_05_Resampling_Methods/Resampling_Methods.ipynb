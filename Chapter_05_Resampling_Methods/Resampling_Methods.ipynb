{
 "cells": [
  {
   "cell_type": "markdown",
   "id": "4dcebbb0-bf28-49a6-8238-4becea00c446",
   "metadata": {},
   "source": [
    "### Cross-Validation and the Bootstrap"
   ]
  },
  {
   "cell_type": "code",
   "execution_count": 4,
   "id": "20d34eeb-6e2c-429d-bb8e-6f07dd2a755c",
   "metadata": {},
   "outputs": [],
   "source": [
    " import numpy as np\n",
    " import statsmodels.api as sm\n",
    " from ISLP import load_data\n",
    " from ISLP.models import (ModelSpec as MS,\n",
    " summarize,\n",
    " poly)\n",
    " from sklearn.model_selection import train_test_split"
   ]
  },
  {
   "cell_type": "code",
   "execution_count": 6,
   "id": "90b31047-e1ba-4583-a604-4621dbf3e81c",
   "metadata": {},
   "outputs": [],
   "source": [
    " from functools import partial\n",
    " from sklearn.model_selection import \\\n",
    " (cross_validate,\n",
    " KFold,\n",
    " ShuffleSplit)\n",
    " from sklearn.base import clone\n",
    " from ISLP.models import sklearn_sm\n"
   ]
  },
  {
   "cell_type": "markdown",
   "id": "f84762e4-bf86-4276-8f2b-894a6abfb547",
   "metadata": {},
   "source": [
    "#### 1.The Validation Set Approch"
   ]
  },
  {
   "cell_type": "code",
   "execution_count": 11,
   "id": "8690d1b9-0da9-427e-933b-bad776e3147e",
   "metadata": {},
   "outputs": [],
   "source": [
    " Auto = load_data('Auto')\n",
    " Auto_train, Auto_valid = train_test_split(Auto,\n",
    " test_size=196,\n",
    " random_state=0)"
   ]
  },
  {
   "cell_type": "code",
   "execution_count": 13,
   "id": "9b90151e-e375-4098-83f4-88ae9d9cfc99",
   "metadata": {},
   "outputs": [
    {
     "data": {
      "text/html": [
       "<div>\n",
       "<style scoped>\n",
       "    .dataframe tbody tr th:only-of-type {\n",
       "        vertical-align: middle;\n",
       "    }\n",
       "\n",
       "    .dataframe tbody tr th {\n",
       "        vertical-align: top;\n",
       "    }\n",
       "\n",
       "    .dataframe thead th {\n",
       "        text-align: right;\n",
       "    }\n",
       "</style>\n",
       "<table border=\"1\" class=\"dataframe\">\n",
       "  <thead>\n",
       "    <tr style=\"text-align: right;\">\n",
       "      <th></th>\n",
       "      <th>mpg</th>\n",
       "      <th>cylinders</th>\n",
       "      <th>displacement</th>\n",
       "      <th>horsepower</th>\n",
       "      <th>weight</th>\n",
       "      <th>acceleration</th>\n",
       "      <th>year</th>\n",
       "      <th>origin</th>\n",
       "    </tr>\n",
       "    <tr>\n",
       "      <th>name</th>\n",
       "      <th></th>\n",
       "      <th></th>\n",
       "      <th></th>\n",
       "      <th></th>\n",
       "      <th></th>\n",
       "      <th></th>\n",
       "      <th></th>\n",
       "      <th></th>\n",
       "    </tr>\n",
       "  </thead>\n",
       "  <tbody>\n",
       "    <tr>\n",
       "      <th>chevrolet chevelle malibu</th>\n",
       "      <td>18.0</td>\n",
       "      <td>8</td>\n",
       "      <td>307.0</td>\n",
       "      <td>130</td>\n",
       "      <td>3504</td>\n",
       "      <td>12.0</td>\n",
       "      <td>70</td>\n",
       "      <td>1</td>\n",
       "    </tr>\n",
       "    <tr>\n",
       "      <th>buick skylark 320</th>\n",
       "      <td>15.0</td>\n",
       "      <td>8</td>\n",
       "      <td>350.0</td>\n",
       "      <td>165</td>\n",
       "      <td>3693</td>\n",
       "      <td>11.5</td>\n",
       "      <td>70</td>\n",
       "      <td>1</td>\n",
       "    </tr>\n",
       "    <tr>\n",
       "      <th>plymouth satellite</th>\n",
       "      <td>18.0</td>\n",
       "      <td>8</td>\n",
       "      <td>318.0</td>\n",
       "      <td>150</td>\n",
       "      <td>3436</td>\n",
       "      <td>11.0</td>\n",
       "      <td>70</td>\n",
       "      <td>1</td>\n",
       "    </tr>\n",
       "    <tr>\n",
       "      <th>amc rebel sst</th>\n",
       "      <td>16.0</td>\n",
       "      <td>8</td>\n",
       "      <td>304.0</td>\n",
       "      <td>150</td>\n",
       "      <td>3433</td>\n",
       "      <td>12.0</td>\n",
       "      <td>70</td>\n",
       "      <td>1</td>\n",
       "    </tr>\n",
       "    <tr>\n",
       "      <th>ford torino</th>\n",
       "      <td>17.0</td>\n",
       "      <td>8</td>\n",
       "      <td>302.0</td>\n",
       "      <td>140</td>\n",
       "      <td>3449</td>\n",
       "      <td>10.5</td>\n",
       "      <td>70</td>\n",
       "      <td>1</td>\n",
       "    </tr>\n",
       "    <tr>\n",
       "      <th>...</th>\n",
       "      <td>...</td>\n",
       "      <td>...</td>\n",
       "      <td>...</td>\n",
       "      <td>...</td>\n",
       "      <td>...</td>\n",
       "      <td>...</td>\n",
       "      <td>...</td>\n",
       "      <td>...</td>\n",
       "    </tr>\n",
       "    <tr>\n",
       "      <th>ford mustang gl</th>\n",
       "      <td>27.0</td>\n",
       "      <td>4</td>\n",
       "      <td>140.0</td>\n",
       "      <td>86</td>\n",
       "      <td>2790</td>\n",
       "      <td>15.6</td>\n",
       "      <td>82</td>\n",
       "      <td>1</td>\n",
       "    </tr>\n",
       "    <tr>\n",
       "      <th>vw pickup</th>\n",
       "      <td>44.0</td>\n",
       "      <td>4</td>\n",
       "      <td>97.0</td>\n",
       "      <td>52</td>\n",
       "      <td>2130</td>\n",
       "      <td>24.6</td>\n",
       "      <td>82</td>\n",
       "      <td>2</td>\n",
       "    </tr>\n",
       "    <tr>\n",
       "      <th>dodge rampage</th>\n",
       "      <td>32.0</td>\n",
       "      <td>4</td>\n",
       "      <td>135.0</td>\n",
       "      <td>84</td>\n",
       "      <td>2295</td>\n",
       "      <td>11.6</td>\n",
       "      <td>82</td>\n",
       "      <td>1</td>\n",
       "    </tr>\n",
       "    <tr>\n",
       "      <th>ford ranger</th>\n",
       "      <td>28.0</td>\n",
       "      <td>4</td>\n",
       "      <td>120.0</td>\n",
       "      <td>79</td>\n",
       "      <td>2625</td>\n",
       "      <td>18.6</td>\n",
       "      <td>82</td>\n",
       "      <td>1</td>\n",
       "    </tr>\n",
       "    <tr>\n",
       "      <th>chevy s-10</th>\n",
       "      <td>31.0</td>\n",
       "      <td>4</td>\n",
       "      <td>119.0</td>\n",
       "      <td>82</td>\n",
       "      <td>2720</td>\n",
       "      <td>19.4</td>\n",
       "      <td>82</td>\n",
       "      <td>1</td>\n",
       "    </tr>\n",
       "  </tbody>\n",
       "</table>\n",
       "<p>392 rows × 8 columns</p>\n",
       "</div>"
      ],
      "text/plain": [
       "                            mpg  cylinders  displacement  horsepower  weight  \\\n",
       "name                                                                           \n",
       "chevrolet chevelle malibu  18.0          8         307.0         130    3504   \n",
       "buick skylark 320          15.0          8         350.0         165    3693   \n",
       "plymouth satellite         18.0          8         318.0         150    3436   \n",
       "amc rebel sst              16.0          8         304.0         150    3433   \n",
       "ford torino                17.0          8         302.0         140    3449   \n",
       "...                         ...        ...           ...         ...     ...   \n",
       "ford mustang gl            27.0          4         140.0          86    2790   \n",
       "vw pickup                  44.0          4          97.0          52    2130   \n",
       "dodge rampage              32.0          4         135.0          84    2295   \n",
       "ford ranger                28.0          4         120.0          79    2625   \n",
       "chevy s-10                 31.0          4         119.0          82    2720   \n",
       "\n",
       "                           acceleration  year  origin  \n",
       "name                                                   \n",
       "chevrolet chevelle malibu          12.0    70       1  \n",
       "buick skylark 320                  11.5    70       1  \n",
       "plymouth satellite                 11.0    70       1  \n",
       "amc rebel sst                      12.0    70       1  \n",
       "ford torino                        10.5    70       1  \n",
       "...                                 ...   ...     ...  \n",
       "ford mustang gl                    15.6    82       1  \n",
       "vw pickup                          24.6    82       2  \n",
       "dodge rampage                      11.6    82       1  \n",
       "ford ranger                        18.6    82       1  \n",
       "chevy s-10                         19.4    82       1  \n",
       "\n",
       "[392 rows x 8 columns]"
      ]
     },
     "execution_count": 13,
     "metadata": {},
     "output_type": "execute_result"
    }
   ],
   "source": [
    "Auto"
   ]
  },
  {
   "cell_type": "code",
   "execution_count": 15,
   "id": "b55e7ec7-ed4b-40e4-ba2b-6adc97102c1e",
   "metadata": {},
   "outputs": [],
   "source": [
    " hp_mm = MS(['horsepower'])\n",
    " X_train = hp_mm.fit_transform(Auto_train)\n",
    " y_train = Auto_train['mpg']\n",
    " model = sm.OLS(y_train, X_train)\n",
    " results = model.fit()"
   ]
  },
  {
   "cell_type": "code",
   "execution_count": 17,
   "id": "90b303c3-fa9f-4a5b-91b1-6d523e25e03e",
   "metadata": {},
   "outputs": [
    {
     "data": {
      "text/plain": [
       "23.616617069669882"
      ]
     },
     "execution_count": 17,
     "metadata": {},
     "output_type": "execute_result"
    }
   ],
   "source": [
    "X_valid = hp_mm.transform(Auto_valid)\n",
    "y_valid = Auto_valid['mpg']\n",
    "valid_pred = results.predict(X_valid)\n",
    "np.mean((y_valid- valid_pred)**2)"
   ]
  },
  {
   "cell_type": "code",
   "execution_count": 19,
   "id": "fb8c35f1-4888-4599-88f6-d191f2d50d36",
   "metadata": {},
   "outputs": [],
   "source": [
    "def evalMSE(terms,\n",
    " response,\n",
    " train,\n",
    " test):\n",
    " mm = MS(terms)\n",
    " X_train = mm.fit_transform(train)\n",
    " y_train = train[response]\n",
    " X_test = mm.transform(test)\n",
    " y_test = test[response]\n",
    " results = sm.OLS(y_train, X_train).fit()\n",
    " test_pred = results.predict(X_test)\n",
    " return np.mean((y_test- test_pred)**2)"
   ]
  },
  {
   "cell_type": "code",
   "execution_count": 23,
   "id": "f4b6a5a5-ceb4-4a9c-b038-22544649a1f1",
   "metadata": {},
   "outputs": [
    {
     "data": {
      "text/plain": [
       "array([23.61661707, 18.76303135, 18.79694163])"
      ]
     },
     "execution_count": 23,
     "metadata": {},
     "output_type": "execute_result"
    }
   ],
   "source": [
    " MSE = np.zeros(3)\n",
    " for idx, degree in enumerate(range(1, 4)):\n",
    "     MSE[idx] = evalMSE([poly('horsepower', degree)],\n",
    "                        'mpg',\n",
    "                        Auto_train,\n",
    "                        Auto_valid)\n",
    " MSE"
   ]
  },
  {
   "cell_type": "code",
   "execution_count": 31,
   "id": "25bdb262-5ba9-467d-bd61-97771894a8ad",
   "metadata": {},
   "outputs": [
    {
     "data": {
      "text/plain": [
       "array([20.75540796, 16.94510676, 16.97437833])"
      ]
     },
     "execution_count": 31,
     "metadata": {},
     "output_type": "execute_result"
    }
   ],
   "source": [
    "Auto_train, Auto_valid = train_test_split(Auto,\n",
    " test_size=196,\n",
    " random_state=3)\n",
    "MSE = np.zeros(3)\n",
    "for idx, degree in enumerate(range(1, 4)):\n",
    "     MSE[idx] = evalMSE([poly('horsepower', degree)],\n",
    "                        'mpg',\n",
    "                        Auto_train,\n",
    "                        Auto_valid)\n",
    "MSE"
   ]
  },
  {
   "cell_type": "markdown",
   "id": "4666fcca-b744-4dd5-aed3-579c823e3bb0",
   "metadata": {},
   "source": [
    "### 2. Cross-Validation"
   ]
  },
  {
   "cell_type": "code",
   "execution_count": 34,
   "id": "a910c309-a0da-40c9-b5e8-301556379b87",
   "metadata": {},
   "outputs": [
    {
     "data": {
      "text/plain": [
       "24.231513517929233"
      ]
     },
     "execution_count": 34,
     "metadata": {},
     "output_type": "execute_result"
    }
   ],
   "source": [
    " hp_model = sklearn_sm(sm.OLS,\n",
    " MS(['horsepower']))\n",
    " X, Y = Auto.drop(columns=['mpg']), Auto['mpg']\n",
    " cv_results = cross_validate(hp_model,\n",
    " X,\n",
    " Y,\n",
    " cv=Auto.shape[0])\n",
    " cv_err = np.mean(cv_results['test_score'])\n",
    " cv_err"
   ]
  },
  {
   "cell_type": "code",
   "execution_count": 40,
   "id": "bb6622d4-1732-4c16-a2ff-ab8ea66766f8",
   "metadata": {},
   "outputs": [
    {
     "data": {
      "text/plain": [
       "array([ 0.       ,  0.       ,  0.       ,  0.       , 19.0332262])"
      ]
     },
     "execution_count": 40,
     "metadata": {},
     "output_type": "execute_result"
    }
   ],
   "source": [
    " cv_error = np.zeros(5)\n",
    " H = np.array(Auto['horsepower'])\n",
    " M = sklearn_sm(sm.OLS)\n",
    " for i, d in enumerate(range(1,6)):\n",
    "     X = np.power.outer(H, np.arange(d+1))\n",
    "     M_CV = cross_validate(M,\n",
    "                           X,\n",
    "                           Y,\n",
    " cv=Auto.shape[0])\n",
    " cv_error[i] = np.mean(M_CV['test_score'])\n",
    " cv_error"
   ]
  },
  {
   "cell_type": "code",
   "execution_count": 44,
   "id": "2e92ca1e-34f2-49f8-803c-a7704ea27514",
   "metadata": {},
   "outputs": [
    {
     "data": {
      "text/plain": [
       "array([[ 5,  7],\n",
       "       [ 7,  9],\n",
       "       [11, 13]])"
      ]
     },
     "execution_count": 44,
     "metadata": {},
     "output_type": "execute_result"
    }
   ],
   "source": [
    "A = np.array([3, 5, 9])\n",
    "B = np.array([2, 4])\n",
    "np.add.outer(A, B)"
   ]
  },
  {
   "cell_type": "code",
   "execution_count": 48,
   "id": "94731ac6-4e75-4bff-a463-c4634d6bc022",
   "metadata": {},
   "outputs": [
    {
     "data": {
      "text/plain": [
       "array([ 0.        ,  0.        ,  0.        ,  0.        , 19.13719075])"
      ]
     },
     "execution_count": 48,
     "metadata": {},
     "output_type": "execute_result"
    }
   ],
   "source": [
    " cv_error = np.zeros(5)\n",
    " cv = KFold(n_splits=10,\n",
    " shuffle=True,\n",
    " random_state=0) # use same splits for each degree\n",
    " for i, d in enumerate(range(1,6)):\n",
    "     X = np.power.outer(H, np.arange(d+1))\n",
    "     M_CV = cross_validate(M,\n",
    "                           X,\n",
    "                           Y,\n",
    "                           cv=cv)\n",
    " cv_error[i] = np.mean(M_CV['test_score'])\n",
    " cv_error"
   ]
  },
  {
   "cell_type": "code",
   "execution_count": 52,
   "id": "e94b746a-1798-4f67-8ea9-70afb34cd1cf",
   "metadata": {},
   "outputs": [
    {
     "data": {
      "text/plain": [
       "array([23.61661707])"
      ]
     },
     "execution_count": 52,
     "metadata": {},
     "output_type": "execute_result"
    }
   ],
   "source": [
    "validation = ShuffleSplit(n_splits=1,\n",
    "test_size=196,\n",
    "random_state=0)\n",
    "results = cross_validate(hp_model,\n",
    "Auto.drop(['mpg'], axis=1),\n",
    "Auto['mpg'],\n",
    "cv=validation);\n",
    "results['test_score']"
   ]
  },
  {
   "cell_type": "markdown",
   "id": "9feabd34-f50d-4d16-a2c3-0a7a2d6620c7",
   "metadata": {},
   "source": [
    "### 3.The Bootstrap"
   ]
  },
  {
   "cell_type": "code",
   "execution_count": 62,
   "id": "3dea3185-e81b-4d3f-9647-e54a0a4c28c5",
   "metadata": {},
   "outputs": [],
   "source": [
    "Portfolio = load_data('Portfolio')\n",
    "def alpha_func(D, idx):\n",
    "    cov_ = np.cov(D[['X','Y']].loc[idx], rowvar=False)\n",
    "    return ((cov_[1,1]- cov_[0,1]) /\n",
    "            (cov_[0,0]+cov_[1,1]-2*cov_[0,1]))"
   ]
  },
  {
   "cell_type": "code",
   "execution_count": 64,
   "id": "7e7094f7-0f84-4bc5-93ed-b895e906d2d8",
   "metadata": {},
   "outputs": [
    {
     "data": {
      "text/plain": [
       "0.57583207459283"
      ]
     },
     "execution_count": 64,
     "metadata": {},
     "output_type": "execute_result"
    }
   ],
   "source": [
    "alpha_func(Portfolio, range(100))"
   ]
  },
  {
   "cell_type": "code",
   "execution_count": 66,
   "id": "da6edd82-bafb-4cdb-9d56-086933e794b7",
   "metadata": {},
   "outputs": [
    {
     "data": {
      "text/plain": [
       "0.6074452469619004"
      ]
     },
     "execution_count": 66,
     "metadata": {},
     "output_type": "execute_result"
    }
   ],
   "source": [
    " rng = np.random.default_rng(0)\n",
    " alpha_func(Portfolio,\n",
    " rng.choice(100,\n",
    " 100,\n",
    " replace=True))"
   ]
  },
  {
   "cell_type": "code",
   "execution_count": 76,
   "id": "9b473882-896f-4ba9-ba55-71a9f0454a4f",
   "metadata": {},
   "outputs": [],
   "source": [
    " def boot_SE(func,\n",
    " D,\n",
    " n=None,\n",
    " B=1000,\n",
    " seed=0):\n",
    "     rng = np.random.default_rng(seed)\n",
    "     first_, second_ = 0, 0\n",
    "     n = n or D.shape[0]\n",
    "     for _ in range(B):\n",
    "         idx = rng.choice(D.index,\n",
    "                      n,\n",
    "                      replace=True)\n",
    "         value = func(D, idx)\n",
    "         first_ += value\n",
    "         second_ += value**2\n",
    "         return np.sqrt(second_ / B- (first_ / B)**2)"
   ]
  },
  {
   "cell_type": "code",
   "execution_count": 80,
   "id": "3ad41812-a71f-4691-8610-839a93c8e6fa",
   "metadata": {},
   "outputs": [
    {
     "data": {
      "text/plain": [
       "0.019199498387420112"
      ]
     },
     "execution_count": 80,
     "metadata": {},
     "output_type": "execute_result"
    }
   ],
   "source": [
    "alpha_SE = boot_SE(alpha_func,\n",
    "                   Portfolio,\n",
    "                   B=1000,\n",
    "                   seed=0)\n",
    "alpha_SE"
   ]
  },
  {
   "cell_type": "code",
   "execution_count": 84,
   "id": "e80dbd40-9462-40b2-9012-5421e91124ab",
   "metadata": {},
   "outputs": [],
   "source": [
    " def boot_OLS(model_matrix, response, D, idx):\n",
    "     D_ = D.loc[idx]\n",
    "     Y_ = D_[response]\n",
    "     X_ = clone(model_matrix).fit_transform(D_)\n",
    "     return sm.OLS(Y_, X_).fit().params"
   ]
  },
  {
   "cell_type": "code",
   "execution_count": 86,
   "id": "7f8a0ed9-d672-4ac4-9781-cd1f68dc9236",
   "metadata": {},
   "outputs": [],
   "source": [
    "hp_func = partial(boot_OLS, MS(['horsepower']), 'mpg')"
   ]
  },
  {
   "cell_type": "code",
   "execution_count": 96,
   "id": "8eda9235-6da3-4e33-a1f9-cc2cd208cb7d",
   "metadata": {},
   "outputs": [
    {
     "data": {
      "text/plain": [
       "array([[39.12226577, -0.1555926 ],\n",
       "       [37.18648613, -0.13915813],\n",
       "       [37.46989244, -0.14112749],\n",
       "       [38.56723252, -0.14830116],\n",
       "       [38.95495707, -0.15315141],\n",
       "       [39.12563927, -0.15261044],\n",
       "       [38.45763251, -0.14767251],\n",
       "       [38.43372587, -0.15019447],\n",
       "       [37.87581142, -0.1409544 ],\n",
       "       [37.95949036, -0.1451333 ]])"
      ]
     },
     "execution_count": 96,
     "metadata": {},
     "output_type": "execute_result"
    }
   ],
   "source": [
    "rng = np.random.default_rng(0)\n",
    "np.array([hp_func(Auto,\n",
    "                  rng.choice(Auto.index, 392, replace=True)) for _ in range(10)])\n"
   ]
  },
  {
   "cell_type": "code",
   "execution_count": 100,
   "id": "4a103f29-6386-4675-8a26-70f3416f019b",
   "metadata": {},
   "outputs": [
    {
     "data": {
      "text/plain": [
       "intercept     1.270578\n",
       "horsepower    0.005293\n",
       "dtype: float64"
      ]
     },
     "execution_count": 100,
     "metadata": {},
     "output_type": "execute_result"
    }
   ],
   "source": [
    "\n",
    " hp_se = boot_SE(hp_func,\n",
    " Auto,\n",
    " B=1000,\n",
    " seed=10)\n",
    " hp_se"
   ]
  },
  {
   "cell_type": "code",
   "execution_count": 102,
   "id": "0acae5ae-06a4-487e-a250-3fa9368f8eee",
   "metadata": {},
   "outputs": [
    {
     "data": {
      "text/plain": [
       "intercept     0.717\n",
       "horsepower    0.006\n",
       "Name: std err, dtype: float64"
      ]
     },
     "execution_count": 102,
     "metadata": {},
     "output_type": "execute_result"
    }
   ],
   "source": [
    " hp_model.fit(Auto, Auto['mpg'])\n",
    " model_se = summarize(hp_model.results_)['std err']\n",
    " model_se"
   ]
  },
  {
   "cell_type": "code",
   "execution_count": 104,
   "id": "ddff4d10-6959-43ba-bb91-665c7e461261",
   "metadata": {},
   "outputs": [
    {
     "data": {
      "text/plain": [
       "intercept                                  1.702187\n",
       "poly(horsepower, degree=2, raw=True)[0]    0.013427\n",
       "poly(horsepower, degree=2, raw=True)[1]    0.000035\n",
       "dtype: float64"
      ]
     },
     "execution_count": 104,
     "metadata": {},
     "output_type": "execute_result"
    }
   ],
   "source": [
    " quad_model = MS([poly('horsepower', 2, raw=True)])\n",
    " quad_func = partial(boot_OLS,\n",
    " quad_model,\n",
    " 'mpg')\n",
    " boot_SE(quad_func, Auto, B=1000)\n"
   ]
  },
  {
   "cell_type": "code",
   "execution_count": 106,
   "id": "2485d00f-4012-4475-8f82-578de39543ba",
   "metadata": {},
   "outputs": [
    {
     "data": {
      "text/plain": [
       "intercept                                  1.800\n",
       "poly(horsepower, degree=2, raw=True)[0]    0.031\n",
       "poly(horsepower, degree=2, raw=True)[1]    0.000\n",
       "Name: std err, dtype: float64"
      ]
     },
     "execution_count": 106,
     "metadata": {},
     "output_type": "execute_result"
    }
   ],
   "source": [
    " M = sm.OLS(Auto['mpg'],\n",
    " quad_model.fit_transform(Auto))\n",
    " summarize(M.fit())['std err']"
   ]
  },
  {
   "cell_type": "code",
   "execution_count": null,
   "id": "a1a471f7-1b33-4295-b12f-66f39955f8f6",
   "metadata": {},
   "outputs": [],
   "source": []
  }
 ],
 "metadata": {
  "kernelspec": {
   "display_name": "Python 3 (ipykernel)",
   "language": "python",
   "name": "python3"
  },
  "language_info": {
   "codemirror_mode": {
    "name": "ipython",
    "version": 3
   },
   "file_extension": ".py",
   "mimetype": "text/x-python",
   "name": "python",
   "nbconvert_exporter": "python",
   "pygments_lexer": "ipython3",
   "version": "3.12.4"
  }
 },
 "nbformat": 4,
 "nbformat_minor": 5
}
